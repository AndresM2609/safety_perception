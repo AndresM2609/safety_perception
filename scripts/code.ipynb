{
 "cells": [
  {
   "cell_type": "code",
   "execution_count": null,
   "id": "81bea28b",
   "metadata": {},
   "outputs": [],
   "source": [
    "import rospy\n",
    "import pickle\n",
    "import moveit_commander\n",
    "from sensor_msgs.msg import JointState\n"
   ]
  },
  {
   "cell_type": "code",
   "execution_count": 4,
   "id": "f4b6f51c",
   "metadata": {},
   "outputs": [],
   "source": [
    "with open(\"/home/hri25-group3/ros/src/safety_perception/joint_snapshot1.pkl\", \"rb\") as f:\n",
    "        data = pickle.load(f)"
   ]
  },
  {
   "cell_type": "code",
   "execution_count": 14,
   "id": "fb4ddc53",
   "metadata": {},
   "outputs": [
    {
     "data": {
      "text/plain": [
       "{'t': 1761213852.0178509,\n",
       " 'names': ['arm_shoulder_pan_joint',\n",
       "  'arm_shoulder_lift_joint',\n",
       "  'arm_elbow_joint',\n",
       "  'arm_wrist_1_joint',\n",
       "  'arm_wrist_2_joint',\n",
       "  'arm_wrist_3_joint'],\n",
       " 'q': [-3.1371305624591272,\n",
       "  -2.5746733150877894,\n",
       "  -1.473508358001709,\n",
       "  -0.6813049477389832,\n",
       "  1.5681782960891724,\n",
       "  -0.3417566458331507]}"
      ]
     },
     "execution_count": 14,
     "metadata": {},
     "output_type": "execute_result"
    }
   ],
   "source": [
    "data[0]"
   ]
  },
  {
   "cell_type": "code",
   "execution_count": 12,
   "id": "38a05423",
   "metadata": {},
   "outputs": [
    {
     "name": "stderr",
     "output_type": "stream",
     "text": [
      "/tmp/ipykernel_193925/2419975706.py:3: SyntaxWarning: The publisher should be created with an explicit keyword argument 'queue_size'. Please see http://wiki.ros.org/rospy/Overview/Publishers%20and%20Subscribers for more information.\n",
      "  state_pub = rospy.Publisher(\"notebook_state\", moveit_msgs.msg.DisplayRobotState)\n"
     ]
    }
   ],
   "source": [
    "import moveit_msgs.msg\n",
    "rospy.init_node('notebook')\n",
    "state_pub = rospy.Publisher(\"notebook_state\", moveit_msgs.msg.DisplayRobotState)"
   ]
  },
  {
   "cell_type": "code",
   "execution_count": 62,
   "id": "05cc5689",
   "metadata": {},
   "outputs": [
    {
     "name": "stdout",
     "output_type": "stream",
     "text": [
      "['arm_shoulder_pan_joint', 'arm_shoulder_lift_joint', 'arm_elbow_joint', 'arm_wrist_1_joint', 'arm_wrist_2_joint', 'arm_wrist_3_joint']\n"
     ]
    }
   ],
   "source": [
    "s = data[5]['names']\n",
    "print(s)"
   ]
  },
  {
   "cell_type": "code",
   "execution_count": 50,
   "id": "0cfe17e1",
   "metadata": {},
   "outputs": [],
   "source": [
    "ds = moveit_msgs.msg.DisplayRobotState()\n",
    "ds.state.joint_state.name = s['names']\n",
    "ds.state.joint_state.position = s['q']\n",
    "state_pub.publish(ds)"
   ]
  },
  {
   "cell_type": "code",
   "execution_count": null,
   "id": "9c458330",
   "metadata": {},
   "outputs": [
    {
     "data": {
      "text/plain": [
       "range(0, 11)"
      ]
     },
     "execution_count": 52,
     "metadata": {},
     "output_type": "execute_result"
    }
   ],
   "source": [
    "move = moveit_commander.MoveGroupCommander('arm')\n",
    "move.set_max_velocity_scaling_factor(0.5)\n",
    "\n",
    "move.set_named_target('ready')\n",
    "move.go()\n",
    "\n",
    "\n",
    "for i in range (len(data)-1):\n",
    "    #start\n",
    "    js1= JointState()\n",
    "    js1.name=data[i]['names']\n",
    "    js1.position=data[i]['q']\n",
    "    move.set_joint_value_target(js1)\n",
    "    move.set_max_velocity_scaling_factor(0.5)\n",
    "    move.go()\n",
    "    j=i+1\n",
    "    for j in range (len(data)-1):\n",
    "        #end\n",
    "        js2= JointState()\n",
    "        js2.name=data[i]['names']\n",
    "        js2.position=data[i]['q']\n",
    "        move.set_joint_value_target(js2)\n",
    "        move.set_max_velocity_scaling_factor(0.5)\n",
    "        move.go()\n",
    "        #go back to start\n",
    "        move.set_joint_value_target(js1)\n",
    "        move.set_max_velocity_scaling_factor(0.5)\n",
    "        move.go()\n",
    "        \n",
    "            \n"
   ]
  },
  {
   "cell_type": "code",
   "execution_count": null,
   "id": "e62ffd90",
   "metadata": {},
   "outputs": [],
   "source": [
    "import sys, pickle\n",
    "import rospy, moveit_commander\n",
    "\n",
    "IN_PKL  = \"joint_snapshot1.pkl\"\n",
    "OUT_PKL = \"good_pairs.pkl\"\n",
    "GROUP   = \"arm\"\n",
    "NAMED   = \"ready\"    # or None\n",
    "VEL     = 0.5\n",
    "\n",
    "def to_js(s):\n",
    "    js = JointState()\n",
    "    js.name = s[\"names\"]\n",
    "    js.position = s[\"q\"] \n",
    "    return js\n",
    "\n",
    "def main():\n",
    "    moveit_commander.roscpp_initialize(sys.argv)\n",
    "    rospy.init_node(\"label_pairs_short\", anonymous=True)\n",
    "\n",
    "    with open(IN_PKL, \"rb\") as f: data = pickle.load(f)\n",
    "\n",
    "    move = moveit_commander.MoveGroupCommander(GROUP)\n",
    "    move.set_max_velocity_scaling_factor(VEL)\n",
    "    \n",
    "    #for ready\n",
    "    if NAMED:\n",
    "        move.set_named_target(NAMED)\n",
    "        move.go(wait=True)\n",
    "        move.stop()\n",
    "\n",
    "    # append to existing file if present\n",
    "    try:\n",
    "        with open(OUT_PKL, \"rb\") as f: good = pickle.load(f)\n",
    "        if not isinstance(good, list): good = []\n",
    "    except Exception:\n",
    "        good = []\n",
    "\n",
    "    print(\"Enter=save, x=ignore, q=quit\\n\")\n",
    "\n",
    "    for i in range(len(data)-1):\n",
    "        for j in range(i+1, len(data)):\n",
    "            start = data[i]\n",
    "            end = data[j]\n",
    "            js1, js2 = to_js(start), to_js(end)\n",
    "\n",
    "            # --- start -> end ---\n",
    "            move.set_joint_value_target(js1)\n",
    "            move.go(wait=True)\n",
    "            move.stop()\n",
    "\n",
    "            move.set_joint_value_target(js2)\n",
    "            ok = move.go(wait=True)\n",
    "            move.stop()\n",
    "\n",
    "            if not ok:# planning problem\n",
    "                print(f\"skip {i}->{j} (plan failed)\")\n",
    "                continue\n",
    "            #waiting for keyboard input\n",
    "            ans = input(f\"[{i}->{j}] Enter=save, x=ignore, q=quit > \").strip().lower()\n",
    "            \n",
    "            if ans == \"q\": \n",
    "                raise KeyboardInterrupt\n",
    "            if ans != \"x\":\n",
    "                good.append({\"dir\":\"i_to_j\",\"i\":i,\"j\":j,\"start\":start,\"end\":end})\n",
    "                with open(OUT_PKL,\"wb\") as f: pickle.dump(good,f,pickle.HIGHEST_PROTOCOL)\n",
    "                print(f\"saved ({i}->{j})\")\n",
    "\n",
    "            # --- end -> start ---\n",
    "            move.set_joint_value_target(js1)\n",
    "            ok = move.go(wait=True)\n",
    "            move.stop()\n",
    "            if not ok:\n",
    "                print(f\"return {j}->{i} failed\")\n",
    "                continue\n",
    "            ans = input(f\"[{j}->{i}] Enter=save, x=ignore, q=quit > \").strip().lower()\n",
    "            if ans == \"q\": raise KeyboardInterrupt\n",
    "            if ans != \"x\":\n",
    "                good.append({\"dir\":\"j_to_i\",\"i\":j,\"j\":i,\"start\":end,\"end\":start})\n",
    "                with open(OUT_PKL,\"wb\") as f: pickle.dump(good,f,pickle.HIGHEST_PROTOCOL)\n",
    "                print(f\"saved ({j}->{i})\")\n",
    "\n",
    "    print(f\"done. total saved: {len(good)}\")\n",
    "    moveit_commander.roscpp_shutdown()\n",
    "\n"
   ]
  }
 ],
 "metadata": {
  "kernelspec": {
   "display_name": ".venv",
   "language": "python",
   "name": "python3"
  },
  "language_info": {
   "codemirror_mode": {
    "name": "ipython",
    "version": 3
   },
   "file_extension": ".py",
   "mimetype": "text/x-python",
   "name": "python",
   "nbconvert_exporter": "python",
   "pygments_lexer": "ipython3",
   "version": "3.11.2"
  }
 },
 "nbformat": 4,
 "nbformat_minor": 5
}
