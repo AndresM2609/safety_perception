{
 "cells": [
  {
   "cell_type": "code",
   "execution_count": 1,
   "id": "81bea28b",
   "metadata": {},
   "outputs": [],
   "source": [
    "import rospy\n",
    "import pickle\n",
    "import moveit_commander\n",
    "from sensor_msgs.msg import JointState\n"
   ]
  },
  {
   "cell_type": "code",
   "execution_count": 8,
   "id": "38a05423",
   "metadata": {},
   "outputs": [],
   "source": [
    "import moveit_msgs.msg\n",
    "rospy.init_node('notebook')\n",
    "state_pub = rospy.Publisher(\"notebook_state\", moveit_msgs.msg.DisplayRobotState, queue_size=1)\n",
    "traj_pub = rospy.Publisher(\"notebook_traj\", moveit_msgs.msg.DisplayTrajectory, queue_size=1)"
   ]
  },
  {
   "cell_type": "code",
   "execution_count": 2,
   "id": "f4b6f51c",
   "metadata": {},
   "outputs": [],
   "source": [
    "with open(\"/home/hri25-group3/ros/src/safety_perception/joint_snapshot1.pkl\", \"rb\") as f:\n",
    "        data = pickle.load(f)"
   ]
  },
  {
   "cell_type": "code",
   "execution_count": 16,
   "id": "fb4ddc53",
   "metadata": {},
   "outputs": [
    {
     "data": {
      "text/plain": [
       "{'t': 1761213852.0178509,\n",
       " 'names': ['arm_shoulder_pan_joint',\n",
       "  'arm_shoulder_lift_joint',\n",
       "  'arm_elbow_joint',\n",
       "  'arm_wrist_1_joint',\n",
       "  'arm_wrist_2_joint',\n",
       "  'arm_wrist_3_joint'],\n",
       " 'q': [-3.1371305624591272,\n",
       "  -2.5746733150877894,\n",
       "  -1.473508358001709,\n",
       "  -0.6813049477389832,\n",
       "  1.5681782960891724,\n",
       "  -0.3417566458331507]}"
      ]
     },
     "execution_count": 16,
     "metadata": {},
     "output_type": "execute_result"
    }
   ],
   "source": [
    "data[0]"
   ]
  },
  {
   "cell_type": "code",
   "execution_count": 10,
   "id": "05cc5689",
   "metadata": {},
   "outputs": [
    {
     "name": "stdout",
     "output_type": "stream",
     "text": [
      "['arm_shoulder_pan_joint', 'arm_shoulder_lift_joint', 'arm_elbow_joint', 'arm_wrist_1_joint', 'arm_wrist_2_joint', 'arm_wrist_3_joint']\n"
     ]
    }
   ],
   "source": [
    "s = data[5]\n",
    "print(s['names'])"
   ]
  },
  {
   "cell_type": "code",
   "execution_count": 12,
   "id": "0cfe17e1",
   "metadata": {},
   "outputs": [],
   "source": [
    "ds = moveit_msgs.msg.DisplayRobotState()\n",
    "ds.state.joint_state.name = s['names']\n",
    "ds.state.joint_state.position = s['q']\n",
    "state_pub.publish(ds)\n"
   ]
  },
  {
   "cell_type": "code",
   "execution_count": null,
   "id": "9c458330",
   "metadata": {},
   "outputs": [
    {
     "data": {
      "text/plain": [
       "range(0, 11)"
      ]
     },
     "execution_count": 52,
     "metadata": {},
     "output_type": "execute_result"
    }
   ],
   "source": [
    "move = moveit_commander.MoveGroupCommander('arm')\n",
    "move.set_max_velocity_scaling_factor(0.5)\n",
    "\n",
    "move.set_named_target('ready')\n",
    "move.go()\n",
    "\n",
    "\n",
    "for i in range (len(data)-1):\n",
    "    #start\n",
    "    js1= JointState()\n",
    "    js1.name=data[i]['names']\n",
    "    js1.position=data[i]['q']\n",
    "    move.set_joint_value_target(js1)\n",
    "    move.set_max_velocity_scaling_factor(0.5)\n",
    "    move.go()\n",
    "    j=i+1\n",
    "    for j in range (len(data)-1):\n",
    "        #end\n",
    "        js2= JointState()\n",
    "        js2.name=data[i]['names']\n",
    "        js2.position=data[i]['q']\n",
    "        move.set_joint_value_target(js2)\n",
    "        move.set_max_velocity_scaling_factor(0.5)\n",
    "        move.go()\n",
    "        #go back to start\n",
    "        move.set_joint_value_target(js1)\n",
    "        move.set_max_velocity_scaling_factor(0.5)\n",
    "        move.go()\n",
    "        \n",
    "            \n"
   ]
  },
  {
   "cell_type": "code",
   "execution_count": 4,
   "id": "e6eeef57",
   "metadata": {},
   "outputs": [],
   "source": [
    "with open(\"/home/hri25-group3/ros/src/safety_perception/good_pairs_fast.pkl\", \"rb\") as f:\n",
    "        plans = pickle.load(f)"
   ]
  },
  {
   "cell_type": "code",
   "execution_count": 6,
   "id": "92ab1e3b",
   "metadata": {},
   "outputs": [
    {
     "data": {
      "text/plain": [
       "joint_trajectory: \n",
       "  header: \n",
       "    seq: 0\n",
       "    stamp: \n",
       "      secs: 0\n",
       "      nsecs:         0\n",
       "    frame_id: \"base\"\n",
       "  joint_names: \n",
       "    - arm_shoulder_pan_joint\n",
       "    - arm_shoulder_lift_joint\n",
       "    - arm_elbow_joint\n",
       "    - arm_wrist_1_joint\n",
       "    - arm_wrist_2_joint\n",
       "    - arm_wrist_3_joint\n",
       "  points: \n",
       "    - \n",
       "      positions: [-3.1371927897082728, -2.5750514469542445, -1.4729422330856323, -0.6812046331218262, 1.568124771118164, -0.3418238798724573]\n",
       "      velocities: [0.03255632944235696, 0.006502850424413667, 0.055635497965112704, -0.06283185307179588, 1.0580283829659567e-05, 3.1915709889456236e-06]\n",
       "      accelerations: [3.2556329442356953, 0.6502850424413665, 5.5635497965112695, -6.283185307179587, 0.0010580283829659566, 0.0003191570988945623]\n",
       "      effort: []\n",
       "      time_from_start: \n",
       "        secs: 0\n",
       "        nsecs:         0\n",
       "    - \n",
       "      positions: [-3.120914624987094, -2.571800021742038, -1.4451244841030761, -0.7126205596577242, 1.5681300612600788, -0.34182228408696286]\n",
       "      velocities: [0.3255632944235699, 0.06502850424413673, 0.5563549796511276, -0.6283185307179594, 0.00010580283829659578, 3.191570988945626e-05]\n",
       "      accelerations: [3.255632944235733, 0.6502850424413741, 5.563549796511339, -6.283185307179665, 0.0010580283829659688, 0.0003191570988945658]\n",
       "      effort: []\n",
       "      time_from_start: \n",
       "        secs: 0\n",
       "        nsecs: 100000000\n",
       "    - \n",
       "      positions: [-3.072080130823559, -2.562045746105417, -1.361671237155407, -0.8068683392654179, 1.5681459316858235, -0.34181749673047945]\n",
       "      velocities: [0.6511265888471378, 0.13005700848827306, 1.1127099593022516, -1.2566370614359148, 0.00021160567659319092, 6.383141977891233e-05]\n",
       "      accelerations: [3.2556329442355616, 0.6502850424413406, 5.5635497965110305, -6.283185307179323, 0.0010580283829659145, 0.0003191570988945498]\n",
       "      effort: []\n",
       "      time_from_start: \n",
       "        secs: 0\n",
       "        nsecs: 200000000\n",
       "    - \n",
       "      positions: [-2.9907217201124645, -2.545795094244955, -1.222637882625186, -0.9638854169124925, 1.5681723718617275, -0.34180952098051687]\n",
       "      velocities: [0.9766898832707133, 0.19508551273241093, 1.6690649389533865, -1.884955592153885, 0.0003174085148875543, 9.574712966836913e-05]\n",
       "      accelerations: [1.8938125316799748, 0.3782729759876602, 3.2363354548042107, -3.6549498292405453, 0.0006154586357984901, 0.00018565474788283926]\n",
       "      effort: []\n",
       "      time_from_start: \n",
       "        secs: 0\n",
       "        nsecs: 300000000\n",
       "    - \n",
       "      positions: [-2.8930699340126083, -2.5262899789705644, -1.0557607856088445, -1.152347776813604, 1.568204107122769, -0.34179994795392343]\n",
       "      velocities: [0.9766898832707039, 0.19508551273241348, 1.6690649389533714, -1.8849555921538668, 0.00031740851488978547, 9.574712966892678e-05]\n",
       "      accelerations: [-4.586495118123576e-13, -9.282192500964382e-14, -7.862563059640417e-13, 8.736181177378242e-13, -1.4929997129308518e-16, -4.532320557111515e-17]\n",
       "      effort: []\n",
       "      time_from_start: \n",
       "        secs: 0\n",
       "        nsecs: 400000000\n",
       "    - \n",
       "      positions: [-2.795415933551648, -2.5067844213963415, -0.8888799044717256, -1.3408144103049473, 1.5682358431034422, -0.3417903747102511]\n",
       "      velocities: [0.9441335538283558, 0.1885826623079971, 1.613429440988274, -1.8221237390820901, 0.00030682823105796897, 9.255555867942347e-05]\n",
       "      accelerations: [-3.25563294423518, -0.6502850424412651, -5.5635497965103955, 6.283185307178625, -0.0010580283829583472, -0.00031915709889451224]\n",
       "      effort: []\n",
       "      time_from_start: \n",
       "        secs: 0\n",
       "        nsecs: 500000000\n",
       "    - \n",
       "      positions: [-2.7150129863618497, -2.490724615263005, -0.7514793411592287, -1.4959874980239856, 1.568261972769058, -0.3417824926265497]\n",
       "      velocities: [0.6185702594047773, 0.1235541580638587, 1.0570744613371321, -1.1938052083641122, 0.0002010253927635302, 6.063984878996635e-05]\n",
       "      accelerations: [-3.2556329442361944, -0.6502850424414669, -5.563549796512119, 6.283185307180545, -0.0010580283829661177, -0.00031915709889461145]\n",
       "      effort: []\n",
       "      time_from_start: \n",
       "        secs: 0\n",
       "        nsecs: 600000000\n",
       "    - \n",
       "      positions: [-2.6671663686144087, -2.4811676595540826, -0.6697142758118444, -1.5883287326712279, 1.5682775221508445, -0.3417778021138371]\n",
       "      velocities: [0.2930069649812098, 0.05852565381972245, 0.5007194816860092, -0.5654866776461575, 9.52225544669352e-05, 2.8724138900510334e-05]\n",
       "      accelerations: [-3.255632944235978, -0.6502850424414232, -5.563549796511741, 6.283185307180133, -0.0010580283829660472, -0.00031915709889458976]\n",
       "      effort: []\n",
       "      time_from_start: \n",
       "        secs: 0\n",
       "        nsecs: 700000000\n",
       "    - \n",
       "      positions: [-2.6518610924432138, -2.4781105605705545, -0.6435590956713538, -1.617867039970718, 1.5682824961196165, -0.34177630170281903]\n",
       "      velocities: [-2.002445642331179e-17, -3.999715176170023e-18, -3.4219785328201167e-17, 3.8646055172152676e-17, -6.507626508338656e-21, -1.9630429868699883e-21]\n",
       "      accelerations: [-3.255632944235622, -0.6502850424413521, -5.563549796511141, 6.283185307179446, -0.0010580283829659328, -0.0003191570988945551]\n",
       "      effort: []\n",
       "      time_from_start: \n",
       "        secs: 0\n",
       "        nsecs: 796965639\n",
       "multi_dof_joint_trajectory: \n",
       "  header: \n",
       "    seq: 0\n",
       "    stamp: \n",
       "      secs: 0\n",
       "      nsecs:         0\n",
       "    frame_id: ''\n",
       "  joint_names: []\n",
       "  points: []"
      ]
     },
     "execution_count": 6,
     "metadata": {},
     "output_type": "execute_result"
    }
   ],
   "source": [
    "plans[0,1]"
   ]
  },
  {
   "cell_type": "code",
   "execution_count": 17,
   "id": "3cf3bb27",
   "metadata": {},
   "outputs": [],
   "source": [
    "dtraj = moveit_msgs.msg.DisplayTrajectory()\n",
    "rtraj = moveit_msgs.msg.RobotTrajectory()\n",
    "rtraj.joint_trajectory = plans[0,5].joint_trajectory\n",
    "dtraj.trajectory.append(rtraj)\n",
    "traj_pub.publish(dtraj)"
   ]
  },
  {
   "cell_type": "code",
   "execution_count": 14,
   "id": "5b65bc37",
   "metadata": {},
   "outputs": [
    {
     "data": {
      "text/plain": [
       "dict_keys([(0, 1), (0, 2), (0, 3), (0, 4), (0, 5), (0, 6), (0, 8), (1, 2), (1, 3), (1, 4), (1, 5), (1, 6), (1, 8), (2, 3), (2, 5), (2, 8), (4, 5), (4, 8)])"
      ]
     },
     "execution_count": 14,
     "metadata": {},
     "output_type": "execute_result"
    }
   ],
   "source": [
    "plans.keys()"
   ]
  }
 ],
 "metadata": {
  "kernelspec": {
   "display_name": ".venv",
   "language": "python",
   "name": "python3"
  },
  "language_info": {
   "codemirror_mode": {
    "name": "ipython",
    "version": 3
   },
   "file_extension": ".py",
   "mimetype": "text/x-python",
   "name": "python",
   "nbconvert_exporter": "python",
   "pygments_lexer": "ipython3",
   "version": "3.11.2"
  }
 },
 "nbformat": 4,
 "nbformat_minor": 5
}
